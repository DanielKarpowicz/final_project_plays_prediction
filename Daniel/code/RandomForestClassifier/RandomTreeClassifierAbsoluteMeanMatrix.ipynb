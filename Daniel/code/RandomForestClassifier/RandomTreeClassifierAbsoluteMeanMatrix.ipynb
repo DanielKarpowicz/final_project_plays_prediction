{
 "cells": [
  {
   "cell_type": "code",
   "execution_count": 1,
   "metadata": {},
   "outputs": [],
   "source": [
    "import pandas as pd\n",
    "import matplotlib\n",
    "from sklearn import preprocessing\n",
    "%matplotlib inline"
   ]
  },
  {
   "cell_type": "code",
   "execution_count": 2,
   "metadata": {},
   "outputs": [],
   "source": [
    "df = pd.read_csv(r'C:\\Users\\dakar\\Desktop\\NFL\\NFL.csv', low_memory=False)"
   ]
  },
  {
   "cell_type": "code",
   "execution_count": 3,
   "metadata": {},
   "outputs": [],
   "source": [
    "#filter rows\n",
    "nedf = df[(df.down.isin([1.0, 2.0, 3.0, 4.0])) & ((df.play_type=='run') | (df.play_type == 'pass'))]"
   ]
  },
  {
   "cell_type": "code",
   "execution_count": 4,
   "metadata": {},
   "outputs": [],
   "source": [
    "#filter columns\n",
    "nedf = nedf[['game_seconds_remaining', 'yardline_100', 'down', 'ydstogo', 'play_type', 'pass_length', 'pass_location', 'run_location']]"
   ]
  },
  {
   "cell_type": "code",
   "execution_count": 5,
   "metadata": {},
   "outputs": [
    {
     "data": {
      "text/html": [
       "<div>\n",
       "<style scoped>\n",
       "    .dataframe tbody tr th:only-of-type {\n",
       "        vertical-align: middle;\n",
       "    }\n",
       "\n",
       "    .dataframe tbody tr th {\n",
       "        vertical-align: top;\n",
       "    }\n",
       "\n",
       "    .dataframe thead th {\n",
       "        text-align: right;\n",
       "    }\n",
       "</style>\n",
       "<table border=\"1\" class=\"dataframe\">\n",
       "  <thead>\n",
       "    <tr style=\"text-align: right;\">\n",
       "      <th></th>\n",
       "      <th>game_seconds_remaining</th>\n",
       "      <th>yardline_100</th>\n",
       "      <th>down</th>\n",
       "      <th>ydstogo</th>\n",
       "      <th>play_type</th>\n",
       "      <th>pass_length</th>\n",
       "      <th>pass_location</th>\n",
       "      <th>run_location</th>\n",
       "    </tr>\n",
       "  </thead>\n",
       "  <tbody>\n",
       "    <tr>\n",
       "      <th>1</th>\n",
       "      <td>3593.0</td>\n",
       "      <td>58.0</td>\n",
       "      <td>1.0</td>\n",
       "      <td>10</td>\n",
       "      <td>pass</td>\n",
       "      <td>short</td>\n",
       "      <td>left</td>\n",
       "      <td>NaN</td>\n",
       "    </tr>\n",
       "    <tr>\n",
       "      <th>2</th>\n",
       "      <td>3556.0</td>\n",
       "      <td>53.0</td>\n",
       "      <td>2.0</td>\n",
       "      <td>5</td>\n",
       "      <td>run</td>\n",
       "      <td>NaN</td>\n",
       "      <td>NaN</td>\n",
       "      <td>right</td>\n",
       "    </tr>\n",
       "    <tr>\n",
       "      <th>3</th>\n",
       "      <td>3515.0</td>\n",
       "      <td>56.0</td>\n",
       "      <td>3.0</td>\n",
       "      <td>8</td>\n",
       "      <td>pass</td>\n",
       "      <td>deep</td>\n",
       "      <td>right</td>\n",
       "      <td>NaN</td>\n",
       "    </tr>\n",
       "    <tr>\n",
       "      <th>5</th>\n",
       "      <td>3496.0</td>\n",
       "      <td>98.0</td>\n",
       "      <td>1.0</td>\n",
       "      <td>10</td>\n",
       "      <td>run</td>\n",
       "      <td>NaN</td>\n",
       "      <td>NaN</td>\n",
       "      <td>middle</td>\n",
       "    </tr>\n",
       "    <tr>\n",
       "      <th>6</th>\n",
       "      <td>3460.0</td>\n",
       "      <td>98.0</td>\n",
       "      <td>2.0</td>\n",
       "      <td>10</td>\n",
       "      <td>pass</td>\n",
       "      <td>short</td>\n",
       "      <td>left</td>\n",
       "      <td>NaN</td>\n",
       "    </tr>\n",
       "    <tr>\n",
       "      <th>...</th>\n",
       "      <td>...</td>\n",
       "      <td>...</td>\n",
       "      <td>...</td>\n",
       "      <td>...</td>\n",
       "      <td>...</td>\n",
       "      <td>...</td>\n",
       "      <td>...</td>\n",
       "      <td>...</td>\n",
       "    </tr>\n",
       "    <tr>\n",
       "      <th>449363</th>\n",
       "      <td>82.0</td>\n",
       "      <td>71.0</td>\n",
       "      <td>2.0</td>\n",
       "      <td>1</td>\n",
       "      <td>pass</td>\n",
       "      <td>short</td>\n",
       "      <td>right</td>\n",
       "      <td>NaN</td>\n",
       "    </tr>\n",
       "    <tr>\n",
       "      <th>449364</th>\n",
       "      <td>77.0</td>\n",
       "      <td>71.0</td>\n",
       "      <td>3.0</td>\n",
       "      <td>1</td>\n",
       "      <td>pass</td>\n",
       "      <td>short</td>\n",
       "      <td>middle</td>\n",
       "      <td>NaN</td>\n",
       "    </tr>\n",
       "    <tr>\n",
       "      <th>449366</th>\n",
       "      <td>63.0</td>\n",
       "      <td>66.0</td>\n",
       "      <td>2.0</td>\n",
       "      <td>10</td>\n",
       "      <td>pass</td>\n",
       "      <td>short</td>\n",
       "      <td>middle</td>\n",
       "      <td>NaN</td>\n",
       "    </tr>\n",
       "    <tr>\n",
       "      <th>449367</th>\n",
       "      <td>58.0</td>\n",
       "      <td>66.0</td>\n",
       "      <td>3.0</td>\n",
       "      <td>10</td>\n",
       "      <td>pass</td>\n",
       "      <td>short</td>\n",
       "      <td>middle</td>\n",
       "      <td>NaN</td>\n",
       "    </tr>\n",
       "    <tr>\n",
       "      <th>449368</th>\n",
       "      <td>38.0</td>\n",
       "      <td>61.0</td>\n",
       "      <td>4.0</td>\n",
       "      <td>5</td>\n",
       "      <td>pass</td>\n",
       "      <td>short</td>\n",
       "      <td>right</td>\n",
       "      <td>NaN</td>\n",
       "    </tr>\n",
       "  </tbody>\n",
       "</table>\n",
       "<p>318691 rows × 8 columns</p>\n",
       "</div>"
      ],
      "text/plain": [
       "        game_seconds_remaining  yardline_100  down  ydstogo play_type  \\\n",
       "1                       3593.0          58.0   1.0       10      pass   \n",
       "2                       3556.0          53.0   2.0        5       run   \n",
       "3                       3515.0          56.0   3.0        8      pass   \n",
       "5                       3496.0          98.0   1.0       10       run   \n",
       "6                       3460.0          98.0   2.0       10      pass   \n",
       "...                        ...           ...   ...      ...       ...   \n",
       "449363                    82.0          71.0   2.0        1      pass   \n",
       "449364                    77.0          71.0   3.0        1      pass   \n",
       "449366                    63.0          66.0   2.0       10      pass   \n",
       "449367                    58.0          66.0   3.0       10      pass   \n",
       "449368                    38.0          61.0   4.0        5      pass   \n",
       "\n",
       "       pass_length pass_location run_location  \n",
       "1            short          left          NaN  \n",
       "2              NaN           NaN        right  \n",
       "3             deep         right          NaN  \n",
       "5              NaN           NaN       middle  \n",
       "6            short          left          NaN  \n",
       "...            ...           ...          ...  \n",
       "449363       short         right          NaN  \n",
       "449364       short        middle          NaN  \n",
       "449366       short        middle          NaN  \n",
       "449367       short        middle          NaN  \n",
       "449368       short         right          NaN  \n",
       "\n",
       "[318691 rows x 8 columns]"
      ]
     },
     "execution_count": 5,
     "metadata": {},
     "output_type": "execute_result"
    }
   ],
   "source": [
    "nedf"
   ]
  },
  {
   "cell_type": "code",
   "execution_count": 12,
   "metadata": {},
   "outputs": [],
   "source": [
    "import numpy as np\n",
    "def get_full_play_type(play):\n",
    "    play_type, pass_location, run_location = play\n",
    "    if(play_type == 'run'):\n",
    "        return play_type+'_'+ run_location\n",
    "    else:\n",
    "        return play_type+'_'+ pass_location\n",
    "nedf = nedf.replace(np.nan, 'unknown', regex=True)    \n",
    "nedf['full_play_type'] = nedf[['play_type','pass_location', 'run_location']].apply(get_full_play_type, axis=1)\n",
    "nedf = nedf[(nedf.full_play_type.isin(['pass_left', 'pass_middle','pass_right','run_left', 'run_middle', 'run_right']))]"
   ]
  },
  {
   "cell_type": "code",
   "execution_count": 13,
   "metadata": {},
   "outputs": [
    {
     "data": {
      "text/html": [
       "<div>\n",
       "<style scoped>\n",
       "    .dataframe tbody tr th:only-of-type {\n",
       "        vertical-align: middle;\n",
       "    }\n",
       "\n",
       "    .dataframe tbody tr th {\n",
       "        vertical-align: top;\n",
       "    }\n",
       "\n",
       "    .dataframe thead th {\n",
       "        text-align: right;\n",
       "    }\n",
       "</style>\n",
       "<table border=\"1\" class=\"dataframe\">\n",
       "  <thead>\n",
       "    <tr style=\"text-align: right;\">\n",
       "      <th></th>\n",
       "      <th>play_type</th>\n",
       "    </tr>\n",
       "    <tr>\n",
       "      <th>full_play_type</th>\n",
       "      <th></th>\n",
       "    </tr>\n",
       "  </thead>\n",
       "  <tbody>\n",
       "    <tr>\n",
       "      <th>pass_left</th>\n",
       "      <td>62909</td>\n",
       "    </tr>\n",
       "    <tr>\n",
       "      <th>pass_middle</th>\n",
       "      <td>40840</td>\n",
       "    </tr>\n",
       "    <tr>\n",
       "      <th>pass_right</th>\n",
       "      <td>70110</td>\n",
       "    </tr>\n",
       "    <tr>\n",
       "      <th>run_left</th>\n",
       "      <td>47691</td>\n",
       "    </tr>\n",
       "    <tr>\n",
       "      <th>run_middle</th>\n",
       "      <td>36386</td>\n",
       "    </tr>\n",
       "    <tr>\n",
       "      <th>run_right</th>\n",
       "      <td>47230</td>\n",
       "    </tr>\n",
       "  </tbody>\n",
       "</table>\n",
       "</div>"
      ],
      "text/plain": [
       "                play_type\n",
       "full_play_type           \n",
       "pass_left           62909\n",
       "pass_middle         40840\n",
       "pass_right          70110\n",
       "run_left            47691\n",
       "run_middle          36386\n",
       "run_right           47230"
      ]
     },
     "execution_count": 13,
     "metadata": {},
     "output_type": "execute_result"
    }
   ],
   "source": [
    "nedf.groupby(['full_play_type']).count()[['play_type']]"
   ]
  },
  {
   "cell_type": "code",
   "execution_count": 14,
   "metadata": {},
   "outputs": [
    {
     "data": {
      "text/plain": [
       "<AxesSubplot:ylabel='full_play_type'>"
      ]
     },
     "execution_count": 14,
     "metadata": {},
     "output_type": "execute_result"
    },
    {
     "data": {
      "image/png": "[encoded data removed]",
      "text/plain": [
       "<Figure size 432x288 with 1 Axes>"
      ]
     },
     "metadata": {
      "needs_background": "light"
     },
     "output_type": "display_data"
    }
   ],
   "source": [
    "nedf.groupby(['full_play_type']).count()[['play_type']].plot(kind='barh')"
   ]
  },
  {
   "cell_type": "code",
   "execution_count": 15,
   "metadata": {},
   "outputs": [
    {
     "data": {
      "text/html": [
       "<div>\n",
       "<style scoped>\n",
       "    .dataframe tbody tr th:only-of-type {\n",
       "        vertical-align: middle;\n",
       "    }\n",
       "\n",
       "    .dataframe tbody tr th {\n",
       "        vertical-align: top;\n",
       "    }\n",
       "\n",
       "    .dataframe thead th {\n",
       "        text-align: right;\n",
       "    }\n",
       "</style>\n",
       "<table border=\"1\" class=\"dataframe\">\n",
       "  <thead>\n",
       "    <tr style=\"text-align: right;\">\n",
       "      <th></th>\n",
       "      <th>play_type</th>\n",
       "    </tr>\n",
       "    <tr>\n",
       "      <th>full_play_type</th>\n",
       "      <th></th>\n",
       "    </tr>\n",
       "  </thead>\n",
       "  <tbody>\n",
       "    <tr>\n",
       "      <th>pass_left</th>\n",
       "      <td>20.614682</td>\n",
       "    </tr>\n",
       "    <tr>\n",
       "      <th>pass_middle</th>\n",
       "      <td>13.382880</td>\n",
       "    </tr>\n",
       "    <tr>\n",
       "      <th>pass_right</th>\n",
       "      <td>22.974381</td>\n",
       "    </tr>\n",
       "    <tr>\n",
       "      <th>run_left</th>\n",
       "      <td>15.627888</td>\n",
       "    </tr>\n",
       "    <tr>\n",
       "      <th>run_middle</th>\n",
       "      <td>11.923347</td>\n",
       "    </tr>\n",
       "    <tr>\n",
       "      <th>run_right</th>\n",
       "      <td>15.476822</td>\n",
       "    </tr>\n",
       "  </tbody>\n",
       "</table>\n",
       "</div>"
      ],
      "text/plain": [
       "                play_type\n",
       "full_play_type           \n",
       "pass_left       20.614682\n",
       "pass_middle     13.382880\n",
       "pass_right      22.974381\n",
       "run_left        15.627888\n",
       "run_middle      11.923347\n",
       "run_right       15.476822"
      ]
     },
     "execution_count": 15,
     "metadata": {},
     "output_type": "execute_result"
    }
   ],
   "source": [
    "nedf.groupby(['full_play_type']).count()[['play_type']].apply(lambda x:100 * x / float(x.sum()))"
   ]
  },
  {
   "cell_type": "code",
   "execution_count": 16,
   "metadata": {},
   "outputs": [],
   "source": [
    "le = preprocessing.LabelEncoder()\n",
    "le.fit(nedf.full_play_type)\n",
    "nedf['full_play_type_code'] = le.transform(nedf['full_play_type'])"
   ]
  },
  {
   "cell_type": "code",
   "execution_count": 17,
   "metadata": {},
   "outputs": [
    {
     "data": {
      "text/plain": [
       "<AxesSubplot:ylabel='full_play_type_code'>"
      ]
     },
     "execution_count": 17,
     "metadata": {},
     "output_type": "execute_result"
    },
    {
     "data": {
      "image/png": "[encoded data removed]",
      "text/plain": [
       "<Figure size 432x288 with 1 Axes>"
      ]
     },
     "metadata": {
      "needs_background": "light"
     },
     "output_type": "display_data"
    }
   ],
   "source": [
    "nedf.groupby(['full_play_type_code']).count()[['down']].plot(kind='barh')"
   ]
  },
  {
   "cell_type": "code",
   "execution_count": 18,
   "metadata": {},
   "outputs": [],
   "source": [
    "def bucketize(val, size, count):\n",
    "    i=0\n",
    "    for i in range(count):\n",
    "        if val <= (i+1)*size:\n",
    "            return i\n",
    "    return i\n",
    "def bucketize_df(df):\n",
    "    df['ydstogo'] = [bucketize(x, 4, 5) for x in df['ydstogo']]\n",
    "    return df\n",
    "nedf = bucketize_df(nedf)"
   ]
  },
  {
   "cell_type": "code",
   "execution_count": 19,
   "metadata": {},
   "outputs": [],
   "source": [
    "nedf = pd.concat([nedf, pd.get_dummies(nedf['down'], prefix='down')], axis=1)\n",
    "nedf = pd.concat([nedf, pd.get_dummies(nedf['ydstogo'], prefix='ydstogo')], axis=1)"
   ]
  },
  {
   "cell_type": "code",
   "execution_count": 20,
   "metadata": {},
   "outputs": [
    {
     "data": {
      "text/html": [
       "<div>\n",
       "<style scoped>\n",
       "    .dataframe tbody tr th:only-of-type {\n",
       "        vertical-align: middle;\n",
       "    }\n",
       "\n",
       "    .dataframe tbody tr th {\n",
       "        vertical-align: top;\n",
       "    }\n",
       "\n",
       "    .dataframe thead th {\n",
       "        text-align: right;\n",
       "    }\n",
       "</style>\n",
       "<table border=\"1\" class=\"dataframe\">\n",
       "  <thead>\n",
       "    <tr style=\"text-align: right;\">\n",
       "      <th></th>\n",
       "      <th>yardline_100</th>\n",
       "      <th>down</th>\n",
       "      <th>ydstogo</th>\n",
       "      <th>full_play_type_code</th>\n",
       "      <th>down_1.0</th>\n",
       "      <th>down_2.0</th>\n",
       "      <th>down_3.0</th>\n",
       "      <th>down_4.0</th>\n",
       "      <th>ydstogo_0</th>\n",
       "      <th>ydstogo_1</th>\n",
       "      <th>ydstogo_2</th>\n",
       "      <th>ydstogo_3</th>\n",
       "      <th>ydstogo_4</th>\n",
       "    </tr>\n",
       "  </thead>\n",
       "  <tbody>\n",
       "    <tr>\n",
       "      <th>count</th>\n",
       "      <td>305166.000000</td>\n",
       "      <td>305166.000000</td>\n",
       "      <td>305166.000000</td>\n",
       "      <td>305166.000000</td>\n",
       "      <td>305166.000000</td>\n",
       "      <td>305166.000000</td>\n",
       "      <td>305166.000000</td>\n",
       "      <td>305166.000000</td>\n",
       "      <td>305166.000000</td>\n",
       "      <td>305166.000000</td>\n",
       "      <td>305166.000000</td>\n",
       "      <td>305166.000000</td>\n",
       "      <td>305166.000000</td>\n",
       "    </tr>\n",
       "    <tr>\n",
       "      <th>mean</th>\n",
       "      <td>52.453157</td>\n",
       "      <td>1.783072</td>\n",
       "      <td>1.591521</td>\n",
       "      <td>2.312928</td>\n",
       "      <td>0.448081</td>\n",
       "      <td>0.335280</td>\n",
       "      <td>0.202126</td>\n",
       "      <td>0.014513</td>\n",
       "      <td>0.165805</td>\n",
       "      <td>0.187898</td>\n",
       "      <td>0.570077</td>\n",
       "      <td>0.041414</td>\n",
       "      <td>0.034807</td>\n",
       "    </tr>\n",
       "    <tr>\n",
       "      <th>std</th>\n",
       "      <td>24.642130</td>\n",
       "      <td>0.813145</td>\n",
       "      <td>0.930004</td>\n",
       "      <td>1.699008</td>\n",
       "      <td>0.497298</td>\n",
       "      <td>0.472089</td>\n",
       "      <td>0.401586</td>\n",
       "      <td>0.119594</td>\n",
       "      <td>0.371906</td>\n",
       "      <td>0.390631</td>\n",
       "      <td>0.495066</td>\n",
       "      <td>0.199245</td>\n",
       "      <td>0.183292</td>\n",
       "    </tr>\n",
       "    <tr>\n",
       "      <th>min</th>\n",
       "      <td>1.000000</td>\n",
       "      <td>1.000000</td>\n",
       "      <td>0.000000</td>\n",
       "      <td>0.000000</td>\n",
       "      <td>0.000000</td>\n",
       "      <td>0.000000</td>\n",
       "      <td>0.000000</td>\n",
       "      <td>0.000000</td>\n",
       "      <td>0.000000</td>\n",
       "      <td>0.000000</td>\n",
       "      <td>0.000000</td>\n",
       "      <td>0.000000</td>\n",
       "      <td>0.000000</td>\n",
       "    </tr>\n",
       "    <tr>\n",
       "      <th>25%</th>\n",
       "      <td>34.000000</td>\n",
       "      <td>1.000000</td>\n",
       "      <td>1.000000</td>\n",
       "      <td>1.000000</td>\n",
       "      <td>0.000000</td>\n",
       "      <td>0.000000</td>\n",
       "      <td>0.000000</td>\n",
       "      <td>0.000000</td>\n",
       "      <td>0.000000</td>\n",
       "      <td>0.000000</td>\n",
       "      <td>0.000000</td>\n",
       "      <td>0.000000</td>\n",
       "      <td>0.000000</td>\n",
       "    </tr>\n",
       "    <tr>\n",
       "      <th>50%</th>\n",
       "      <td>56.000000</td>\n",
       "      <td>2.000000</td>\n",
       "      <td>2.000000</td>\n",
       "      <td>2.000000</td>\n",
       "      <td>0.000000</td>\n",
       "      <td>0.000000</td>\n",
       "      <td>0.000000</td>\n",
       "      <td>0.000000</td>\n",
       "      <td>0.000000</td>\n",
       "      <td>0.000000</td>\n",
       "      <td>1.000000</td>\n",
       "      <td>0.000000</td>\n",
       "      <td>0.000000</td>\n",
       "    </tr>\n",
       "    <tr>\n",
       "      <th>75%</th>\n",
       "      <td>73.000000</td>\n",
       "      <td>2.000000</td>\n",
       "      <td>2.000000</td>\n",
       "      <td>4.000000</td>\n",
       "      <td>1.000000</td>\n",
       "      <td>1.000000</td>\n",
       "      <td>0.000000</td>\n",
       "      <td>0.000000</td>\n",
       "      <td>0.000000</td>\n",
       "      <td>0.000000</td>\n",
       "      <td>1.000000</td>\n",
       "      <td>0.000000</td>\n",
       "      <td>0.000000</td>\n",
       "    </tr>\n",
       "    <tr>\n",
       "      <th>max</th>\n",
       "      <td>99.000000</td>\n",
       "      <td>4.000000</td>\n",
       "      <td>4.000000</td>\n",
       "      <td>5.000000</td>\n",
       "      <td>1.000000</td>\n",
       "      <td>1.000000</td>\n",
       "      <td>1.000000</td>\n",
       "      <td>1.000000</td>\n",
       "      <td>1.000000</td>\n",
       "      <td>1.000000</td>\n",
       "      <td>1.000000</td>\n",
       "      <td>1.000000</td>\n",
       "      <td>1.000000</td>\n",
       "    </tr>\n",
       "  </tbody>\n",
       "</table>\n",
       "</div>"
      ],
      "text/plain": [
       "        yardline_100           down        ydstogo  full_play_type_code  \\\n",
       "count  305166.000000  305166.000000  305166.000000        305166.000000   \n",
       "mean       52.453157       1.783072       1.591521             2.312928   \n",
       "std        24.642130       0.813145       0.930004             1.699008   \n",
       "min         1.000000       1.000000       0.000000             0.000000   \n",
       "25%        34.000000       1.000000       1.000000             1.000000   \n",
       "50%        56.000000       2.000000       2.000000             2.000000   \n",
       "75%        73.000000       2.000000       2.000000             4.000000   \n",
       "max        99.000000       4.000000       4.000000             5.000000   \n",
       "\n",
       "            down_1.0       down_2.0       down_3.0       down_4.0  \\\n",
       "count  305166.000000  305166.000000  305166.000000  305166.000000   \n",
       "mean        0.448081       0.335280       0.202126       0.014513   \n",
       "std         0.497298       0.472089       0.401586       0.119594   \n",
       "min         0.000000       0.000000       0.000000       0.000000   \n",
       "25%         0.000000       0.000000       0.000000       0.000000   \n",
       "50%         0.000000       0.000000       0.000000       0.000000   \n",
       "75%         1.000000       1.000000       0.000000       0.000000   \n",
       "max         1.000000       1.000000       1.000000       1.000000   \n",
       "\n",
       "           ydstogo_0      ydstogo_1      ydstogo_2      ydstogo_3  \\\n",
       "count  305166.000000  305166.000000  305166.000000  305166.000000   \n",
       "mean        0.165805       0.187898       0.570077       0.041414   \n",
       "std         0.371906       0.390631       0.495066       0.199245   \n",
       "min         0.000000       0.000000       0.000000       0.000000   \n",
       "25%         0.000000       0.000000       0.000000       0.000000   \n",
       "50%         0.000000       0.000000       1.000000       0.000000   \n",
       "75%         0.000000       0.000000       1.000000       0.000000   \n",
       "max         1.000000       1.000000       1.000000       1.000000   \n",
       "\n",
       "           ydstogo_4  \n",
       "count  305166.000000  \n",
       "mean        0.034807  \n",
       "std         0.183292  \n",
       "min         0.000000  \n",
       "25%         0.000000  \n",
       "50%         0.000000  \n",
       "75%         0.000000  \n",
       "max         1.000000  "
      ]
     },
     "execution_count": 20,
     "metadata": {},
     "output_type": "execute_result"
    }
   ],
   "source": [
    "nedf.describe()"
   ]
  },
  {
   "cell_type": "code",
   "execution_count": 21,
   "metadata": {},
   "outputs": [],
   "source": [
    "nedf['yardline_100']/=100"
   ]
  },
  {
   "cell_type": "code",
   "execution_count": 22,
   "metadata": {},
   "outputs": [
    {
     "data": {
      "text/html": [
       "<div>\n",
       "<style scoped>\n",
       "    .dataframe tbody tr th:only-of-type {\n",
       "        vertical-align: middle;\n",
       "    }\n",
       "\n",
       "    .dataframe tbody tr th {\n",
       "        vertical-align: top;\n",
       "    }\n",
       "\n",
       "    .dataframe thead th {\n",
       "        text-align: right;\n",
       "    }\n",
       "</style>\n",
       "<table border=\"1\" class=\"dataframe\">\n",
       "  <thead>\n",
       "    <tr style=\"text-align: right;\">\n",
       "      <th></th>\n",
       "      <th>yardline_100</th>\n",
       "      <th>down</th>\n",
       "      <th>ydstogo</th>\n",
       "      <th>full_play_type_code</th>\n",
       "      <th>down_1.0</th>\n",
       "      <th>down_2.0</th>\n",
       "      <th>down_3.0</th>\n",
       "      <th>down_4.0</th>\n",
       "      <th>ydstogo_0</th>\n",
       "      <th>ydstogo_1</th>\n",
       "      <th>ydstogo_2</th>\n",
       "      <th>ydstogo_3</th>\n",
       "      <th>ydstogo_4</th>\n",
       "    </tr>\n",
       "  </thead>\n",
       "  <tbody>\n",
       "    <tr>\n",
       "      <th>count</th>\n",
       "      <td>305166.000000</td>\n",
       "      <td>305166.000000</td>\n",
       "      <td>305166.000000</td>\n",
       "      <td>305166.000000</td>\n",
       "      <td>305166.000000</td>\n",
       "      <td>305166.000000</td>\n",
       "      <td>305166.000000</td>\n",
       "      <td>305166.000000</td>\n",
       "      <td>305166.000000</td>\n",
       "      <td>305166.000000</td>\n",
       "      <td>305166.000000</td>\n",
       "      <td>305166.000000</td>\n",
       "      <td>305166.000000</td>\n",
       "    </tr>\n",
       "    <tr>\n",
       "      <th>mean</th>\n",
       "      <td>0.524532</td>\n",
       "      <td>1.783072</td>\n",
       "      <td>1.591521</td>\n",
       "      <td>2.312928</td>\n",
       "      <td>0.448081</td>\n",
       "      <td>0.335280</td>\n",
       "      <td>0.202126</td>\n",
       "      <td>0.014513</td>\n",
       "      <td>0.165805</td>\n",
       "      <td>0.187898</td>\n",
       "      <td>0.570077</td>\n",
       "      <td>0.041414</td>\n",
       "      <td>0.034807</td>\n",
       "    </tr>\n",
       "    <tr>\n",
       "      <th>std</th>\n",
       "      <td>0.246421</td>\n",
       "      <td>0.813145</td>\n",
       "      <td>0.930004</td>\n",
       "      <td>1.699008</td>\n",
       "      <td>0.497298</td>\n",
       "      <td>0.472089</td>\n",
       "      <td>0.401586</td>\n",
       "      <td>0.119594</td>\n",
       "      <td>0.371906</td>\n",
       "      <td>0.390631</td>\n",
       "      <td>0.495066</td>\n",
       "      <td>0.199245</td>\n",
       "      <td>0.183292</td>\n",
       "    </tr>\n",
       "    <tr>\n",
       "      <th>min</th>\n",
       "      <td>0.010000</td>\n",
       "      <td>1.000000</td>\n",
       "      <td>0.000000</td>\n",
       "      <td>0.000000</td>\n",
       "      <td>0.000000</td>\n",
       "      <td>0.000000</td>\n",
       "      <td>0.000000</td>\n",
       "      <td>0.000000</td>\n",
       "      <td>0.000000</td>\n",
       "      <td>0.000000</td>\n",
       "      <td>0.000000</td>\n",
       "      <td>0.000000</td>\n",
       "      <td>0.000000</td>\n",
       "    </tr>\n",
       "    <tr>\n",
       "      <th>25%</th>\n",
       "      <td>0.340000</td>\n",
       "      <td>1.000000</td>\n",
       "      <td>1.000000</td>\n",
       "      <td>1.000000</td>\n",
       "      <td>0.000000</td>\n",
       "      <td>0.000000</td>\n",
       "      <td>0.000000</td>\n",
       "      <td>0.000000</td>\n",
       "      <td>0.000000</td>\n",
       "      <td>0.000000</td>\n",
       "      <td>0.000000</td>\n",
       "      <td>0.000000</td>\n",
       "      <td>0.000000</td>\n",
       "    </tr>\n",
       "    <tr>\n",
       "      <th>50%</th>\n",
       "      <td>0.560000</td>\n",
       "      <td>2.000000</td>\n",
       "      <td>2.000000</td>\n",
       "      <td>2.000000</td>\n",
       "      <td>0.000000</td>\n",
       "      <td>0.000000</td>\n",
       "      <td>0.000000</td>\n",
       "      <td>0.000000</td>\n",
       "      <td>0.000000</td>\n",
       "      <td>0.000000</td>\n",
       "      <td>1.000000</td>\n",
       "      <td>0.000000</td>\n",
       "      <td>0.000000</td>\n",
       "    </tr>\n",
       "    <tr>\n",
       "      <th>75%</th>\n",
       "      <td>0.730000</td>\n",
       "      <td>2.000000</td>\n",
       "      <td>2.000000</td>\n",
       "      <td>4.000000</td>\n",
       "      <td>1.000000</td>\n",
       "      <td>1.000000</td>\n",
       "      <td>0.000000</td>\n",
       "      <td>0.000000</td>\n",
       "      <td>0.000000</td>\n",
       "      <td>0.000000</td>\n",
       "      <td>1.000000</td>\n",
       "      <td>0.000000</td>\n",
       "      <td>0.000000</td>\n",
       "    </tr>\n",
       "    <tr>\n",
       "      <th>max</th>\n",
       "      <td>0.990000</td>\n",
       "      <td>4.000000</td>\n",
       "      <td>4.000000</td>\n",
       "      <td>5.000000</td>\n",
       "      <td>1.000000</td>\n",
       "      <td>1.000000</td>\n",
       "      <td>1.000000</td>\n",
       "      <td>1.000000</td>\n",
       "      <td>1.000000</td>\n",
       "      <td>1.000000</td>\n",
       "      <td>1.000000</td>\n",
       "      <td>1.000000</td>\n",
       "      <td>1.000000</td>\n",
       "    </tr>\n",
       "  </tbody>\n",
       "</table>\n",
       "</div>"
      ],
      "text/plain": [
       "        yardline_100           down        ydstogo  full_play_type_code  \\\n",
       "count  305166.000000  305166.000000  305166.000000        305166.000000   \n",
       "mean        0.524532       1.783072       1.591521             2.312928   \n",
       "std         0.246421       0.813145       0.930004             1.699008   \n",
       "min         0.010000       1.000000       0.000000             0.000000   \n",
       "25%         0.340000       1.000000       1.000000             1.000000   \n",
       "50%         0.560000       2.000000       2.000000             2.000000   \n",
       "75%         0.730000       2.000000       2.000000             4.000000   \n",
       "max         0.990000       4.000000       4.000000             5.000000   \n",
       "\n",
       "            down_1.0       down_2.0       down_3.0       down_4.0  \\\n",
       "count  305166.000000  305166.000000  305166.000000  305166.000000   \n",
       "mean        0.448081       0.335280       0.202126       0.014513   \n",
       "std         0.497298       0.472089       0.401586       0.119594   \n",
       "min         0.000000       0.000000       0.000000       0.000000   \n",
       "25%         0.000000       0.000000       0.000000       0.000000   \n",
       "50%         0.000000       0.000000       0.000000       0.000000   \n",
       "75%         1.000000       1.000000       0.000000       0.000000   \n",
       "max         1.000000       1.000000       1.000000       1.000000   \n",
       "\n",
       "           ydstogo_0      ydstogo_1      ydstogo_2      ydstogo_3  \\\n",
       "count  305166.000000  305166.000000  305166.000000  305166.000000   \n",
       "mean        0.165805       0.187898       0.570077       0.041414   \n",
       "std         0.371906       0.390631       0.495066       0.199245   \n",
       "min         0.000000       0.000000       0.000000       0.000000   \n",
       "25%         0.000000       0.000000       0.000000       0.000000   \n",
       "50%         0.000000       0.000000       1.000000       0.000000   \n",
       "75%         0.000000       0.000000       1.000000       0.000000   \n",
       "max         1.000000       1.000000       1.000000       1.000000   \n",
       "\n",
       "           ydstogo_4  \n",
       "count  305166.000000  \n",
       "mean        0.034807  \n",
       "std         0.183292  \n",
       "min         0.000000  \n",
       "25%         0.000000  \n",
       "50%         0.000000  \n",
       "75%         0.000000  \n",
       "max         1.000000  "
      ]
     },
     "execution_count": 22,
     "metadata": {},
     "output_type": "execute_result"
    }
   ],
   "source": [
    "nedf.describe()"
   ]
  },
  {
   "cell_type": "code",
   "execution_count": 23,
   "metadata": {},
   "outputs": [],
   "source": [
    "from sklearn.model_selection import train_test_split"
   ]
  },
  {
   "cell_type": "code",
   "execution_count": 24,
   "metadata": {},
   "outputs": [],
   "source": [
    "#select important columns for input\n",
    "X=nedf[['yardline_100', 'down', 'ydstogo', 'down_1.0', 'down_2.0', 'down_3.0', 'down_4.0','ydstogo_0','ydstogo_1','ydstogo_2','ydstogo_3','ydstogo_4']]\n",
    "#select result column for output\n",
    "Y=nedf['full_play_type_code']\n",
    "#split data for train and test\n",
    "train_x, test_x, train_y, test_y = train_test_split(X, Y, random_state = 0)"
   ]
  },
  {
   "cell_type": "code",
   "execution_count": 25,
   "metadata": {},
   "outputs": [
    {
     "data": {
      "text/plain": [
       "RandomForestClassifier(max_depth=8, n_estimators=64)"
      ]
     },
     "execution_count": 25,
     "metadata": {},
     "output_type": "execute_result"
    }
   ],
   "source": [
    "from sklearn.ensemble import RandomForestClassifier\n",
    "the_clf=RandomForestClassifier(max_depth=8, n_estimators=64)\n",
    "the_clf.fit(train_x, train_y)"
   ]
  },
  {
   "cell_type": "code",
   "execution_count": 26,
   "metadata": {},
   "outputs": [
    {
     "name": "stdout",
     "output_type": "stream",
     "text": [
      "0.23959261783673255\n"
     ]
    }
   ],
   "source": [
    "from sklearn.metrics import accuracy_score, explained_variance_score, mean_absolute_error\n",
    "pred = the_clf.predict(test_x)\n",
    "acc =accuracy_score(test_y, pred)\n",
    "print(acc)"
   ]
  },
  {
   "cell_type": "code",
   "execution_count": 27,
   "metadata": {},
   "outputs": [
    {
     "name": "stdout",
     "output_type": "stream",
     "text": [
      "-0.2038665614179247\n"
     ]
    }
   ],
   "source": [
    "eacc = explained_variance_score(test_y, pred)\n",
    "print(eacc)"
   ]
  },
  {
   "cell_type": "code",
   "execution_count": 29,
   "metadata": {},
   "outputs": [
    {
     "name": "stdout",
     "output_type": "stream",
     "text": [
      "1.4697871336444188\n"
     ]
    }
   ],
   "source": [
    "macc = mean_absolute_error(test_y, pred)\n",
    "print(macc)"
   ]
  },
  {
   "cell_type": "code",
   "execution_count": 35,
   "metadata": {},
   "outputs": [
    {
     "data": {
      "image/png": "[encoded data removed]",
      "text/plain": [
       "<Figure size 432x288 with 1 Axes>"
      ]
     },
     "metadata": {
      "needs_background": "light"
     },
     "output_type": "display_data"
    }
   ],
   "source": [
    "from sklearn.metrics import precision_recall_curve\n",
    "from sklearn.metrics import PrecisionRecallDisplay\n",
    "\n",
    "prec, recall, _ = precision_recall_curve(test_y, pred,\n",
    "                                         pos_label=the_clf.classes_[1])\n",
    "pr_display = PrecisionRecallDisplay(precision=prec, recall=recall).plot()"
   ]
  },
  {
   "cell_type": "code",
   "execution_count": 37,
   "metadata": {},
   "outputs": [
    {
     "data": {
      "image/png": "[encoded data removed]",
      "text/plain": [
       "<Figure size 432x288 with 2 Axes>"
      ]
     },
     "metadata": {
      "needs_background": "light"
     },
     "output_type": "display_data"
    }
   ],
   "source": [
    "from sklearn.metrics import confusion_matrix\n",
    "from sklearn.metrics import ConfusionMatrixDisplay\n",
    "\n",
    "y_pred = the_clf.predict(test_x)\n",
    "cm = confusion_matrix(test_y, pred)\n",
    "\n",
    "cm_display = ConfusionMatrixDisplay(cm).plot()"
   ]
  },
  {
   "cell_type": "code",
   "execution_count": null,
   "metadata": {},
   "outputs": [],
   "source": []
  }
 ],
 "metadata": {
  "kernelspec": {
   "display_name": "Python 3.8.0 64-bit",
   "language": "python",
   "name": "python38064bitbc031135128844ce8eaae887c3a4dc48"
  },
  "language_info": {
   "codemirror_mode": {
    "name": "ipython",
    "version": 3
   },
   "file_extension": ".py",
   "mimetype": "text/x-python",
   "name": "python",
   "nbconvert_exporter": "python",
   "pygments_lexer": "ipython3",
   "version": "3.8.0"
  }
 },
 "nbformat": 4,
 "nbformat_minor": 4
}
