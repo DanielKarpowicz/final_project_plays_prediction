{
 "cells": [
  {
   "cell_type": "code",
   "execution_count": 1,
   "metadata": {},
   "outputs": [],
   "source": [
    "import pandas as pd\n",
    "import matplotlib\n",
    "from sklearn import preprocessing\n",
    "%matplotlib inline"
   ]
  },
  {
   "cell_type": "code",
   "execution_count": 2,
   "metadata": {},
   "outputs": [],
   "source": [
    "df = pd.read_csv(r'C:\\Users\\dakar\\Desktop\\NFL\\raw.csv', low_memory=False)"
   ]
  },
  {
   "cell_type": "code",
   "execution_count": 3,
   "metadata": {},
   "outputs": [
    {
     "data": {
      "text/html": [
       "<div>\n",
       "<style scoped>\n",
       "    .dataframe tbody tr th:only-of-type {\n",
       "        vertical-align: middle;\n",
       "    }\n",
       "\n",
       "    .dataframe tbody tr th {\n",
       "        vertical-align: top;\n",
       "    }\n",
       "\n",
       "    .dataframe thead th {\n",
       "        text-align: right;\n",
       "    }\n",
       "</style>\n",
       "<table border=\"1\" class=\"dataframe\">\n",
       "  <thead>\n",
       "    <tr style=\"text-align: right;\">\n",
       "      <th></th>\n",
       "      <th>game_seconds_remaining</th>\n",
       "      <th>yardline_100</th>\n",
       "      <th>down</th>\n",
       "      <th>ydstogo</th>\n",
       "      <th>play_type</th>\n",
       "      <th>pass_length</th>\n",
       "      <th>pass_location</th>\n",
       "      <th>run_location</th>\n",
       "      <th>full_play_type</th>\n",
       "      <th>full_play_type_code</th>\n",
       "      <th>down_1.0</th>\n",
       "      <th>down_2.0</th>\n",
       "      <th>down_3.0</th>\n",
       "      <th>down_4.0</th>\n",
       "      <th>ydstogo_0</th>\n",
       "      <th>ydstogo_1</th>\n",
       "      <th>ydstogo_2</th>\n",
       "      <th>ydstogo_3</th>\n",
       "      <th>ydstogo_4</th>\n",
       "    </tr>\n",
       "  </thead>\n",
       "  <tbody>\n",
       "    <tr>\n",
       "      <th>0</th>\n",
       "      <td>3593.0</td>\n",
       "      <td>0.58</td>\n",
       "      <td>1.0</td>\n",
       "      <td>2</td>\n",
       "      <td>pass</td>\n",
       "      <td>short</td>\n",
       "      <td>left</td>\n",
       "      <td>unknown</td>\n",
       "      <td>pass_left</td>\n",
       "      <td>0</td>\n",
       "      <td>1</td>\n",
       "      <td>0</td>\n",
       "      <td>0</td>\n",
       "      <td>0</td>\n",
       "      <td>0</td>\n",
       "      <td>0</td>\n",
       "      <td>1</td>\n",
       "      <td>0</td>\n",
       "      <td>0</td>\n",
       "    </tr>\n",
       "    <tr>\n",
       "      <th>1</th>\n",
       "      <td>3556.0</td>\n",
       "      <td>0.53</td>\n",
       "      <td>2.0</td>\n",
       "      <td>1</td>\n",
       "      <td>run</td>\n",
       "      <td>unknown</td>\n",
       "      <td>unknown</td>\n",
       "      <td>right</td>\n",
       "      <td>run_right</td>\n",
       "      <td>5</td>\n",
       "      <td>0</td>\n",
       "      <td>1</td>\n",
       "      <td>0</td>\n",
       "      <td>0</td>\n",
       "      <td>0</td>\n",
       "      <td>1</td>\n",
       "      <td>0</td>\n",
       "      <td>0</td>\n",
       "      <td>0</td>\n",
       "    </tr>\n",
       "    <tr>\n",
       "      <th>2</th>\n",
       "      <td>3515.0</td>\n",
       "      <td>0.56</td>\n",
       "      <td>3.0</td>\n",
       "      <td>1</td>\n",
       "      <td>pass</td>\n",
       "      <td>deep</td>\n",
       "      <td>right</td>\n",
       "      <td>unknown</td>\n",
       "      <td>pass_right</td>\n",
       "      <td>2</td>\n",
       "      <td>0</td>\n",
       "      <td>0</td>\n",
       "      <td>1</td>\n",
       "      <td>0</td>\n",
       "      <td>0</td>\n",
       "      <td>1</td>\n",
       "      <td>0</td>\n",
       "      <td>0</td>\n",
       "      <td>0</td>\n",
       "    </tr>\n",
       "    <tr>\n",
       "      <th>3</th>\n",
       "      <td>3496.0</td>\n",
       "      <td>0.98</td>\n",
       "      <td>1.0</td>\n",
       "      <td>2</td>\n",
       "      <td>run</td>\n",
       "      <td>unknown</td>\n",
       "      <td>unknown</td>\n",
       "      <td>middle</td>\n",
       "      <td>run_middle</td>\n",
       "      <td>4</td>\n",
       "      <td>1</td>\n",
       "      <td>0</td>\n",
       "      <td>0</td>\n",
       "      <td>0</td>\n",
       "      <td>0</td>\n",
       "      <td>0</td>\n",
       "      <td>1</td>\n",
       "      <td>0</td>\n",
       "      <td>0</td>\n",
       "    </tr>\n",
       "    <tr>\n",
       "      <th>4</th>\n",
       "      <td>3460.0</td>\n",
       "      <td>0.98</td>\n",
       "      <td>2.0</td>\n",
       "      <td>2</td>\n",
       "      <td>pass</td>\n",
       "      <td>short</td>\n",
       "      <td>left</td>\n",
       "      <td>unknown</td>\n",
       "      <td>pass_left</td>\n",
       "      <td>0</td>\n",
       "      <td>0</td>\n",
       "      <td>1</td>\n",
       "      <td>0</td>\n",
       "      <td>0</td>\n",
       "      <td>0</td>\n",
       "      <td>0</td>\n",
       "      <td>1</td>\n",
       "      <td>0</td>\n",
       "      <td>0</td>\n",
       "    </tr>\n",
       "    <tr>\n",
       "      <th>...</th>\n",
       "      <td>...</td>\n",
       "      <td>...</td>\n",
       "      <td>...</td>\n",
       "      <td>...</td>\n",
       "      <td>...</td>\n",
       "      <td>...</td>\n",
       "      <td>...</td>\n",
       "      <td>...</td>\n",
       "      <td>...</td>\n",
       "      <td>...</td>\n",
       "      <td>...</td>\n",
       "      <td>...</td>\n",
       "      <td>...</td>\n",
       "      <td>...</td>\n",
       "      <td>...</td>\n",
       "      <td>...</td>\n",
       "      <td>...</td>\n",
       "      <td>...</td>\n",
       "      <td>...</td>\n",
       "    </tr>\n",
       "    <tr>\n",
       "      <th>305161</th>\n",
       "      <td>82.0</td>\n",
       "      <td>0.71</td>\n",
       "      <td>2.0</td>\n",
       "      <td>0</td>\n",
       "      <td>pass</td>\n",
       "      <td>short</td>\n",
       "      <td>right</td>\n",
       "      <td>unknown</td>\n",
       "      <td>pass_right</td>\n",
       "      <td>2</td>\n",
       "      <td>0</td>\n",
       "      <td>1</td>\n",
       "      <td>0</td>\n",
       "      <td>0</td>\n",
       "      <td>1</td>\n",
       "      <td>0</td>\n",
       "      <td>0</td>\n",
       "      <td>0</td>\n",
       "      <td>0</td>\n",
       "    </tr>\n",
       "    <tr>\n",
       "      <th>305162</th>\n",
       "      <td>77.0</td>\n",
       "      <td>0.71</td>\n",
       "      <td>3.0</td>\n",
       "      <td>0</td>\n",
       "      <td>pass</td>\n",
       "      <td>short</td>\n",
       "      <td>middle</td>\n",
       "      <td>unknown</td>\n",
       "      <td>pass_middle</td>\n",
       "      <td>1</td>\n",
       "      <td>0</td>\n",
       "      <td>0</td>\n",
       "      <td>1</td>\n",
       "      <td>0</td>\n",
       "      <td>1</td>\n",
       "      <td>0</td>\n",
       "      <td>0</td>\n",
       "      <td>0</td>\n",
       "      <td>0</td>\n",
       "    </tr>\n",
       "    <tr>\n",
       "      <th>305163</th>\n",
       "      <td>63.0</td>\n",
       "      <td>0.66</td>\n",
       "      <td>2.0</td>\n",
       "      <td>2</td>\n",
       "      <td>pass</td>\n",
       "      <td>short</td>\n",
       "      <td>middle</td>\n",
       "      <td>unknown</td>\n",
       "      <td>pass_middle</td>\n",
       "      <td>1</td>\n",
       "      <td>0</td>\n",
       "      <td>1</td>\n",
       "      <td>0</td>\n",
       "      <td>0</td>\n",
       "      <td>0</td>\n",
       "      <td>0</td>\n",
       "      <td>1</td>\n",
       "      <td>0</td>\n",
       "      <td>0</td>\n",
       "    </tr>\n",
       "    <tr>\n",
       "      <th>305164</th>\n",
       "      <td>58.0</td>\n",
       "      <td>0.66</td>\n",
       "      <td>3.0</td>\n",
       "      <td>2</td>\n",
       "      <td>pass</td>\n",
       "      <td>short</td>\n",
       "      <td>middle</td>\n",
       "      <td>unknown</td>\n",
       "      <td>pass_middle</td>\n",
       "      <td>1</td>\n",
       "      <td>0</td>\n",
       "      <td>0</td>\n",
       "      <td>1</td>\n",
       "      <td>0</td>\n",
       "      <td>0</td>\n",
       "      <td>0</td>\n",
       "      <td>1</td>\n",
       "      <td>0</td>\n",
       "      <td>0</td>\n",
       "    </tr>\n",
       "    <tr>\n",
       "      <th>305165</th>\n",
       "      <td>38.0</td>\n",
       "      <td>0.61</td>\n",
       "      <td>4.0</td>\n",
       "      <td>1</td>\n",
       "      <td>pass</td>\n",
       "      <td>short</td>\n",
       "      <td>right</td>\n",
       "      <td>unknown</td>\n",
       "      <td>pass_right</td>\n",
       "      <td>2</td>\n",
       "      <td>0</td>\n",
       "      <td>0</td>\n",
       "      <td>0</td>\n",
       "      <td>1</td>\n",
       "      <td>0</td>\n",
       "      <td>1</td>\n",
       "      <td>0</td>\n",
       "      <td>0</td>\n",
       "      <td>0</td>\n",
       "    </tr>\n",
       "  </tbody>\n",
       "</table>\n",
       "<p>305166 rows × 19 columns</p>\n",
       "</div>"
      ],
      "text/plain": [
       "       game_seconds_remaining  yardline_100  down  ydstogo play_type  \\\n",
       "0                      3593.0          0.58   1.0        2      pass   \n",
       "1                      3556.0          0.53   2.0        1       run   \n",
       "2                      3515.0          0.56   3.0        1      pass   \n",
       "3                      3496.0          0.98   1.0        2       run   \n",
       "4                      3460.0          0.98   2.0        2      pass   \n",
       "...                       ...           ...   ...      ...       ...   \n",
       "305161                   82.0          0.71   2.0        0      pass   \n",
       "305162                   77.0          0.71   3.0        0      pass   \n",
       "305163                   63.0          0.66   2.0        2      pass   \n",
       "305164                   58.0          0.66   3.0        2      pass   \n",
       "305165                   38.0          0.61   4.0        1      pass   \n",
       "\n",
       "       pass_length pass_location run_location full_play_type  \\\n",
       "0            short          left      unknown      pass_left   \n",
       "1          unknown       unknown        right      run_right   \n",
       "2             deep         right      unknown     pass_right   \n",
       "3          unknown       unknown       middle     run_middle   \n",
       "4            short          left      unknown      pass_left   \n",
       "...            ...           ...          ...            ...   \n",
       "305161       short         right      unknown     pass_right   \n",
       "305162       short        middle      unknown    pass_middle   \n",
       "305163       short        middle      unknown    pass_middle   \n",
       "305164       short        middle      unknown    pass_middle   \n",
       "305165       short         right      unknown     pass_right   \n",
       "\n",
       "        full_play_type_code  down_1.0  down_2.0  down_3.0  down_4.0  \\\n",
       "0                         0         1         0         0         0   \n",
       "1                         5         0         1         0         0   \n",
       "2                         2         0         0         1         0   \n",
       "3                         4         1         0         0         0   \n",
       "4                         0         0         1         0         0   \n",
       "...                     ...       ...       ...       ...       ...   \n",
       "305161                    2         0         1         0         0   \n",
       "305162                    1         0         0         1         0   \n",
       "305163                    1         0         1         0         0   \n",
       "305164                    1         0         0         1         0   \n",
       "305165                    2         0         0         0         1   \n",
       "\n",
       "        ydstogo_0  ydstogo_1  ydstogo_2  ydstogo_3  ydstogo_4  \n",
       "0               0          0          1          0          0  \n",
       "1               0          1          0          0          0  \n",
       "2               0          1          0          0          0  \n",
       "3               0          0          1          0          0  \n",
       "4               0          0          1          0          0  \n",
       "...           ...        ...        ...        ...        ...  \n",
       "305161          1          0          0          0          0  \n",
       "305162          1          0          0          0          0  \n",
       "305163          0          0          1          0          0  \n",
       "305164          0          0          1          0          0  \n",
       "305165          0          1          0          0          0  \n",
       "\n",
       "[305166 rows x 19 columns]"
      ]
     },
     "execution_count": 3,
     "metadata": {},
     "output_type": "execute_result"
    }
   ],
   "source": [
    "df"
   ]
  },
  {
   "cell_type": "code",
   "execution_count": 4,
   "metadata": {},
   "outputs": [],
   "source": [
    "from sklearn.model_selection import train_test_split"
   ]
  },
  {
   "cell_type": "code",
   "execution_count": 5,
   "metadata": {},
   "outputs": [],
   "source": [
    "#select important columns for input\n",
    "X=df[['yardline_100', 'down', 'ydstogo', 'down_1.0', 'down_2.0', 'down_3.0', 'down_4.0','ydstogo_0','ydstogo_1','ydstogo_2','ydstogo_3','ydstogo_4']]\n",
    "#select result column for output\n",
    "Y=df['full_play_type_code']\n",
    "#split data for train and test\n",
    "train_x, test_x, train_y, test_y = train_test_split(X, Y, random_state = 0)"
   ]
  },
  {
   "cell_type": "code",
   "execution_count": 6,
   "metadata": {},
   "outputs": [
    {
     "data": {
      "text/plain": [
       "RandomForestClassifier(max_depth=8, n_estimators=64)"
      ]
     },
     "execution_count": 6,
     "metadata": {},
     "output_type": "execute_result"
    }
   ],
   "source": [
    "from sklearn.ensemble import RandomForestClassifier\n",
    "the_clf=RandomForestClassifier(max_depth=8, n_estimators=64)\n",
    "the_clf.fit(train_x, train_y)"
   ]
  },
  {
   "cell_type": "code",
   "execution_count": 7,
   "metadata": {},
   "outputs": [
    {
     "name": "stdout",
     "output_type": "stream",
     "text": [
      "0.2404577150946364\n"
     ]
    }
   ],
   "source": [
    "from sklearn.metrics import accuracy_score, explained_variance_score\n",
    "pred = the_clf.predict(test_x)\n",
    "acc =accuracy_score(test_y, pred)\n",
    "print(acc)"
   ]
  },
  {
   "cell_type": "code",
   "execution_count": 8,
   "metadata": {},
   "outputs": [
    {
     "name": "stdout",
     "output_type": "stream",
     "text": [
      "-0.20438585364961037\n"
     ]
    }
   ],
   "source": [
    "eacc = explained_variance_score(test_y, pred)\n",
    "print(eacc)"
   ]
  },
  {
   "cell_type": "code",
   "execution_count": 9,
   "metadata": {},
   "outputs": [],
   "source": [
    "import matplotlib.pyplot as plt"
   ]
  },
  {
   "cell_type": "code",
   "execution_count": 10,
   "metadata": {},
   "outputs": [],
   "source": [
    "from sklearn.metrics import confusion_matrix\n",
    "from sklearn.metrics import ConfusionMatrixDisplay\n",
    "cm = confusion_matrix(test_y, pred)"
   ]
  },
  {
   "cell_type": "code",
   "execution_count": 11,
   "metadata": {},
   "outputs": [
    {
     "name": "stdout",
     "output_type": "stream",
     "text": [
      "              precision    recall  f1-score   support\n",
      "\n",
      "   Pass Left       0.27      0.04      0.07     15876\n",
      " Pass Middle       0.29      0.01      0.02     10241\n",
      "  Pass Right       0.25      0.80      0.38     17581\n",
      "    Run Left       0.20      0.10      0.13     11833\n",
      "  Run Middle       0.25      0.06      0.10      8909\n",
      "   Run Right       0.22      0.15      0.18     11852\n",
      "\n",
      "    accuracy                           0.24     76292\n",
      "   macro avg       0.25      0.19      0.15     76292\n",
      "weighted avg       0.25      0.24      0.16     76292\n",
      "\n"
     ]
    }
   ],
   "source": [
    "from sklearn.metrics import classification_report\n",
    "pred = the_clf.predict(test_x)\n",
    "target_names = ['Pass Left', 'Pass Middle', 'Pass Right','Run Left','Run Middle', 'Run Right']\n",
    "print(classification_report(test_y, pred, target_names=target_names))"
   ]
  },
  {
   "cell_type": "code",
   "execution_count": 17,
   "metadata": {},
   "outputs": [
    {
     "data": {
      "text/plain": [
       "<AxesSubplot:title={'center':'Predictive Play Matrix'}>"
      ]
     },
     "execution_count": 17,
     "metadata": {},
     "output_type": "execute_result"
    },
    {
     "data": {
      "image/png": "[encoded data removed]",
      "text/plain": [
       "<Figure size 1440x720 with 2 Axes>"
      ]
     },
     "metadata": {
      "needs_background": "light"
     },
     "output_type": "display_data"
    }
   ],
   "source": [
    "import seaborn as sns\n",
    "plt.subplots(figsize=(20,10))\n",
    "plt.title('Predictive Play Matrix', fontsize = 28) \n",
    "x_axis_labels = ['Pass Left', 'Pass Middle', 'Pass Right','Run Left','Run Middle', 'Run Right']\n",
    "y_axis_labels = ['Pass Left', 'Pass Middle', 'Pass Right','Run Left','Run Middle', 'Run Right']\n",
    "sns.heatmap(cm, xticklabels=x_axis_labels, yticklabels=y_axis_labels,cmap='coolwarm', annot=True, linewidths=4, fmt='g')"
   ]
  },
  {
   "cell_type": "code",
   "execution_count": 13,
   "metadata": {},
   "outputs": [
    {
     "data": {
      "text/plain": [
       "<AxesSubplot:>"
      ]
     },
     "execution_count": 13,
     "metadata": {},
     "output_type": "execute_result"
    },
    {
     "data": {
      "image/png": "[encoded data removed]",
      "text/plain": [
       "<Figure size 432x288 with 2 Axes>"
      ]
     },
     "metadata": {
      "needs_background": "light"
     },
     "output_type": "display_data"
    }
   ],
   "source": [
    "x_axis_labels = ['Pass Left', 'Pass Middle', 'Pass Right','Run Left','Run Middle', 'Run Right']\n",
    "y_axis_labels = ['Pass Left', 'Pass Middle', 'Pass Right','Run Left','Run Middle', 'Run Right']\n",
    "sns.heatmap(cm, xticklabels=x_axis_labels, yticklabels=y_axis_labels,cmap='coolwarm', annot=True, linewidths=4, fmt='g')"
   ]
  },
  {
   "cell_type": "code",
   "execution_count": null,
   "metadata": {},
   "outputs": [],
   "source": []
  }
 ],
 "metadata": {
  "kernelspec": {
   "display_name": "Python 3.8.0 64-bit",
   "language": "python",
   "name": "python38064bitbc031135128844ce8eaae887c3a4dc48"
  },
  "language_info": {
   "codemirror_mode": {
    "name": "ipython",
    "version": 3
   },
   "file_extension": ".py",
   "mimetype": "text/x-python",
   "name": "python",
   "nbconvert_exporter": "python",
   "pygments_lexer": "ipython3",
   "version": "3.8.0"
  }
 },
 "nbformat": 4,
 "nbformat_minor": 4
}
